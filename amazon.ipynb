{
  "nbformat": 4,
  "nbformat_minor": 0,
  "metadata": {
    "colab": {
      "provenance": []
    },
    "kernelspec": {
      "name": "python3",
      "display_name": "Python 3"
    },
    "language_info": {
      "name": "python"
    }
  },
  "cells": [
    {
      "cell_type": "code",
      "execution_count": 4,
      "metadata": {
        "colab": {
          "base_uri": "https://localhost:8080/"
        },
        "id": "xsIYJym5Btuw",
        "outputId": "10e11a15-0e64-47b8-9537-1c1982a0e647"
      },
      "outputs": [
        {
          "output_type": "stream",
          "name": "stdout",
          "text": [
            "200\n",
            "Data has been saved to amazon_product_info.csv\n"
          ]
        }
      ],
      "source": [
        "import requests\n",
        "from bs4 import BeautifulSoup\n",
        "import re\n",
        "import pandas as pd\n",
        "\n",
        "l = []\n",
        "o = {}\n",
        "specs_arr = []\n",
        "specs_obj = {}\n",
        "\n",
        "target_url = \"https://www.amazon.com/dp/B0BSHF7WHW\"\n",
        "\n",
        "headers = {\n",
        "    \"accept-language\": \"en-US,en;q=0.9\",\n",
        "    \"accept-encoding\": \"gzip, deflate, br\",\n",
        "    \"User-Agent\": \"Mozilla/5.0 (Windows NT 10.0; Win64; x64) AppleWebKit/537.36 (KHTML, like Gecko) Chrome/111.0.0.0 Safari/537.36\",\n",
        "    \"accept\": \"text/html,application/xhtml+xml,application/xml;q=0.9,image/avif,image/webp,image/apng,*/*;q=0.8,application/signed-exchange;v=b3;q=0.7\"\n",
        "}\n",
        "\n",
        "resp = requests.get(target_url, headers=headers)\n",
        "print(resp.status_code)\n",
        "if resp.status_code != 200:\n",
        "    print(resp)\n",
        "    exit()\n",
        "\n",
        "soup = BeautifulSoup(resp.text, 'html.parser')\n",
        "\n",
        "try:\n",
        "    o[\"title\"] = soup.find('span', {'id': 'productTitle'}).get_text(strip=True)\n",
        "except:\n",
        "    o[\"title\"] = None\n",
        "\n",
        "images = re.findall('\"hiRes\":\"(.+?)\"', resp.text)\n",
        "o[\"images\"] = images\n",
        "\n",
        "try:\n",
        "    price = soup.find(\"span\", {\"id\": \"priceblock_ourprice\"})\n",
        "    if price is None:\n",
        "        price = soup.find(\"span\", {\"id\": \"priceblock_dealprice\"})\n",
        "    if price is not None:\n",
        "        o[\"price\"] = price.get_text(strip=True)\n",
        "    else:\n",
        "        o[\"price\"] = None\n",
        "except:\n",
        "    o[\"price\"] = None\n",
        "\n",
        "try:\n",
        "    rating = soup.find(\"span\", {\"class\": \"a-icon-alt\"})\n",
        "    if rating is not None:\n",
        "        o[\"rating\"] = rating.get_text(strip=True)\n",
        "    else:\n",
        "        o[\"rating\"] = None\n",
        "except:\n",
        "    o[\"rating\"] = None\n",
        "\n",
        "specs = soup.find_all(\"tr\", {\"class\": \"a-spacing-small\"})\n",
        "\n",
        "for spec in specs:\n",
        "    spanTags = spec.find_all(\"span\")\n",
        "    if len(spanTags) == 2:\n",
        "        specs_obj[spanTags[0].text] = spanTags[1].text\n",
        "\n",
        "specs_arr.append(specs_obj)\n",
        "o[\"specs\"] = specs_arr\n",
        "l.append(o)\n",
        "\n",
        "# Create a DataFrame from the list of product information\n",
        "df = pd.DataFrame(l)\n",
        "\n",
        "# Save the DataFrame to a CSV file\n",
        "df.to_csv('amazon_product_info.csv', index=False)\n",
        "print(\"Data has been saved to amazon_product_info.csv\")\n"
      ]
    }
  ]
}